{
  "nbformat": 4,
  "nbformat_minor": 0,
  "metadata": {
    "colab": {
      "provenance": [],
      "toc_visible": true,
      "authorship_tag": "ABX9TyNgbU/XQnNpv8VO+c0blggL",
      "include_colab_link": true
    },
    "kernelspec": {
      "name": "python3",
      "display_name": "Python 3"
    },
    "language_info": {
      "name": "python"
    }
  },
  "cells": [
    {
      "cell_type": "markdown",
      "metadata": {
        "id": "view-in-github",
        "colab_type": "text"
      },
      "source": [
        "<a href=\"https://colab.research.google.com/github/3LuisF/Investigaciones_y_operaciones1/blob/main/ejemplo01.ipynb\" target=\"_parent\"><img src=\"https://colab.research.google.com/assets/colab-badge.svg\" alt=\"Open In Colab\"/></a>"
      ]
    },
    {
      "cell_type": "code",
      "execution_count": 1,
      "metadata": {
        "colab": {
          "base_uri": "https://localhost:8080/"
        },
        "id": "npGsKDwr-bFm",
        "outputId": "d4654db3-3d51-4a0b-9721-55a171e39409"
      },
      "outputs": [
        {
          "output_type": "stream",
          "name": "stdout",
          "text": [
            "hello\n"
          ]
        }
      ],
      "source": [
        "print(\"hello\")\n"
      ]
    },
    {
      "cell_type": "markdown",
      "source": [
        "ejemplo de imprimir\n"
      ],
      "metadata": {
        "id": "4sbAy1xTArFI"
      }
    },
    {
      "cell_type": "markdown",
      "source": [
        "##subtitulo\n"
      ],
      "metadata": {
        "id": "OY5V4iPLBPFH"
      }
    },
    {
      "cell_type": "code",
      "source": [
        "## nombre del subtitulo"
      ],
      "metadata": {
        "id": "SNiejqSBBYPX"
      },
      "execution_count": null,
      "outputs": []
    }
  ]
}